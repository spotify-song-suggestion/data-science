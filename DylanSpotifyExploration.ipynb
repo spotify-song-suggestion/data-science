{
 "cells": [
  {
   "cell_type": "markdown",
   "metadata": {
    "colab_type": "text",
    "id": "view-in-github"
   },
   "source": [
    "<a href=\"https://colab.research.google.com/github/dylan0stewart/data-science/blob/main/DylanSpotifyExploration.ipynb\" target=\"_parent\"><img src=\"https://colab.research.google.com/assets/colab-badge.svg\" alt=\"Open In Colab\"/></a>"
   ]
  },
  {
   "cell_type": "markdown",
   "metadata": {
    "colab_type": "text",
    "id": "A3v2friD96kv"
   },
   "source": [
    "# Load data and explore a bit"
   ]
  },
  {
   "cell_type": "code",
   "execution_count": null,
   "metadata": {
    "colab": {
     "base_uri": "https://localhost:8080/",
     "height": 428
    },
    "colab_type": "code",
    "id": "Sfg3rydGwa-w",
    "outputId": "45d07e85-7c73-4e58-b78f-d0cc54ec8c9c"
   },
   "outputs": [
    {
     "data": {
      "text/html": [
       "<div>\n",
       "<style scoped>\n",
       "    .dataframe tbody tr th:only-of-type {\n",
       "        vertical-align: middle;\n",
       "    }\n",
       "\n",
       "    .dataframe tbody tr th {\n",
       "        vertical-align: top;\n",
       "    }\n",
       "\n",
       "    .dataframe thead th {\n",
       "        text-align: right;\n",
       "    }\n",
       "</style>\n",
       "<table border=\"1\" class=\"dataframe\">\n",
       "  <thead>\n",
       "    <tr style=\"text-align: right;\">\n",
       "      <th></th>\n",
       "      <th>acousticness</th>\n",
       "      <th>artists</th>\n",
       "      <th>danceability</th>\n",
       "      <th>duration_ms</th>\n",
       "      <th>energy</th>\n",
       "      <th>explicit</th>\n",
       "      <th>id</th>\n",
       "      <th>instrumentalness</th>\n",
       "      <th>key</th>\n",
       "      <th>liveness</th>\n",
       "      <th>loudness</th>\n",
       "      <th>mode</th>\n",
       "      <th>name</th>\n",
       "      <th>popularity</th>\n",
       "      <th>release_date</th>\n",
       "      <th>speechiness</th>\n",
       "      <th>tempo</th>\n",
       "      <th>valence</th>\n",
       "      <th>year</th>\n",
       "    </tr>\n",
       "  </thead>\n",
       "  <tbody>\n",
       "    <tr>\n",
       "      <th>0</th>\n",
       "      <td>0.995</td>\n",
       "      <td>['Carl Woitschach']</td>\n",
       "      <td>0.708</td>\n",
       "      <td>158648</td>\n",
       "      <td>0.1950</td>\n",
       "      <td>0</td>\n",
       "      <td>6KbQ3uYMLKb5jDxLF7wYDD</td>\n",
       "      <td>0.563</td>\n",
       "      <td>10</td>\n",
       "      <td>0.1510</td>\n",
       "      <td>-12.428</td>\n",
       "      <td>1</td>\n",
       "      <td>Singende Bataillone 1. Teil</td>\n",
       "      <td>0</td>\n",
       "      <td>1928</td>\n",
       "      <td>0.0506</td>\n",
       "      <td>118.469</td>\n",
       "      <td>0.7790</td>\n",
       "      <td>1928</td>\n",
       "    </tr>\n",
       "    <tr>\n",
       "      <th>1</th>\n",
       "      <td>0.994</td>\n",
       "      <td>['Robert Schumann', 'Vladimir Horowitz']</td>\n",
       "      <td>0.379</td>\n",
       "      <td>282133</td>\n",
       "      <td>0.0135</td>\n",
       "      <td>0</td>\n",
       "      <td>6KuQTIu1KoTTkLXKrwlLPV</td>\n",
       "      <td>0.901</td>\n",
       "      <td>8</td>\n",
       "      <td>0.0763</td>\n",
       "      <td>-28.454</td>\n",
       "      <td>1</td>\n",
       "      <td>Fantasiestücke, Op. 111: Più tosto lento</td>\n",
       "      <td>0</td>\n",
       "      <td>1928</td>\n",
       "      <td>0.0462</td>\n",
       "      <td>83.972</td>\n",
       "      <td>0.0767</td>\n",
       "      <td>1928</td>\n",
       "    </tr>\n",
       "    <tr>\n",
       "      <th>2</th>\n",
       "      <td>0.604</td>\n",
       "      <td>['Seweryn Goszczyński']</td>\n",
       "      <td>0.749</td>\n",
       "      <td>104300</td>\n",
       "      <td>0.2200</td>\n",
       "      <td>0</td>\n",
       "      <td>6L63VW0PibdM1HDSBoqnoM</td>\n",
       "      <td>0.000</td>\n",
       "      <td>5</td>\n",
       "      <td>0.1190</td>\n",
       "      <td>-19.924</td>\n",
       "      <td>0</td>\n",
       "      <td>Chapter 1.18 - Zamek kaniowski</td>\n",
       "      <td>0</td>\n",
       "      <td>1928</td>\n",
       "      <td>0.9290</td>\n",
       "      <td>107.177</td>\n",
       "      <td>0.8800</td>\n",
       "      <td>1928</td>\n",
       "    </tr>\n",
       "    <tr>\n",
       "      <th>3</th>\n",
       "      <td>0.995</td>\n",
       "      <td>['Francisco Canaro']</td>\n",
       "      <td>0.781</td>\n",
       "      <td>180760</td>\n",
       "      <td>0.1300</td>\n",
       "      <td>0</td>\n",
       "      <td>6M94FkXd15sOAOQYRnWPN8</td>\n",
       "      <td>0.887</td>\n",
       "      <td>1</td>\n",
       "      <td>0.1110</td>\n",
       "      <td>-14.734</td>\n",
       "      <td>0</td>\n",
       "      <td>Bebamos Juntos - Instrumental (Remasterizado)</td>\n",
       "      <td>0</td>\n",
       "      <td>1928-09-25</td>\n",
       "      <td>0.0926</td>\n",
       "      <td>108.003</td>\n",
       "      <td>0.7200</td>\n",
       "      <td>1928</td>\n",
       "    </tr>\n",
       "    <tr>\n",
       "      <th>4</th>\n",
       "      <td>0.990</td>\n",
       "      <td>['Frédéric Chopin', 'Vladimir Horowitz']</td>\n",
       "      <td>0.210</td>\n",
       "      <td>687733</td>\n",
       "      <td>0.2040</td>\n",
       "      <td>0</td>\n",
       "      <td>6N6tiFZ9vLTSOIxkj8qKrd</td>\n",
       "      <td>0.908</td>\n",
       "      <td>11</td>\n",
       "      <td>0.0980</td>\n",
       "      <td>-16.829</td>\n",
       "      <td>1</td>\n",
       "      <td>Polonaise-Fantaisie in A-Flat Major, Op. 61</td>\n",
       "      <td>1</td>\n",
       "      <td>1928</td>\n",
       "      <td>0.0424</td>\n",
       "      <td>62.149</td>\n",
       "      <td>0.0693</td>\n",
       "      <td>1928</td>\n",
       "    </tr>\n",
       "  </tbody>\n",
       "</table>\n",
       "</div>"
      ],
      "text/plain": [
       "   acousticness                                   artists  ...  valence  year\n",
       "0         0.995                       ['Carl Woitschach']  ...   0.7790  1928\n",
       "1         0.994  ['Robert Schumann', 'Vladimir Horowitz']  ...   0.0767  1928\n",
       "2         0.604                   ['Seweryn Goszczyński']  ...   0.8800  1928\n",
       "3         0.995                      ['Francisco Canaro']  ...   0.7200  1928\n",
       "4         0.990  ['Frédéric Chopin', 'Vladimir Horowitz']  ...   0.0693  1928\n",
       "\n",
       "[5 rows x 19 columns]"
      ]
     },
     "execution_count": 3,
     "metadata": {
      "tags": []
     },
     "output_type": "execute_result"
    }
   ],
   "source": [
    "# Import statements\n",
    "import pandas as pd\n",
    "import numpy as np\n",
    "import matplotlib.pyplot as plt\n",
    "import seaborn as sns\n",
    "\n",
    "\n",
    "import json\n",
    "import pickle\n",
    "\n",
    "#from spotipy.oauth2 import SpotifyClientCredentials\n",
    "#import spotipy\n",
    "\n",
    "\n",
    "\n",
    "songs = pd.read_csv(\"data.csv\")\n",
    "songs.head()\n"
   ]
  },
  {
   "cell_type": "code",
   "execution_count": null,
   "metadata": {
    "colab": {
     "base_uri": "https://localhost:8080/",
     "height": 317
    },
    "colab_type": "code",
    "id": "MrVZszbTyqhE",
    "outputId": "2c88ac67-e1d3-42e4-ad07-d4a13c1357e8"
   },
   "outputs": [
    {
     "data": {
      "text/html": [
       "<div>\n",
       "<style scoped>\n",
       "    .dataframe tbody tr th:only-of-type {\n",
       "        vertical-align: middle;\n",
       "    }\n",
       "\n",
       "    .dataframe tbody tr th {\n",
       "        vertical-align: top;\n",
       "    }\n",
       "\n",
       "    .dataframe thead th {\n",
       "        text-align: right;\n",
       "    }\n",
       "</style>\n",
       "<table border=\"1\" class=\"dataframe\">\n",
       "  <thead>\n",
       "    <tr style=\"text-align: right;\">\n",
       "      <th></th>\n",
       "      <th>acousticness</th>\n",
       "      <th>danceability</th>\n",
       "      <th>duration_ms</th>\n",
       "      <th>energy</th>\n",
       "      <th>explicit</th>\n",
       "      <th>instrumentalness</th>\n",
       "      <th>key</th>\n",
       "      <th>liveness</th>\n",
       "      <th>loudness</th>\n",
       "      <th>mode</th>\n",
       "      <th>popularity</th>\n",
       "      <th>speechiness</th>\n",
       "      <th>tempo</th>\n",
       "      <th>valence</th>\n",
       "      <th>year</th>\n",
       "    </tr>\n",
       "  </thead>\n",
       "  <tbody>\n",
       "    <tr>\n",
       "      <th>count</th>\n",
       "      <td>169909.000000</td>\n",
       "      <td>169909.000000</td>\n",
       "      <td>1.699090e+05</td>\n",
       "      <td>169909.000000</td>\n",
       "      <td>169909.000000</td>\n",
       "      <td>169909.000000</td>\n",
       "      <td>169909.000000</td>\n",
       "      <td>169909.000000</td>\n",
       "      <td>169909.000000</td>\n",
       "      <td>169909.000000</td>\n",
       "      <td>169909.000000</td>\n",
       "      <td>169909.000000</td>\n",
       "      <td>169909.000000</td>\n",
       "      <td>169909.000000</td>\n",
       "      <td>169909.000000</td>\n",
       "    </tr>\n",
       "    <tr>\n",
       "      <th>mean</th>\n",
       "      <td>0.493214</td>\n",
       "      <td>0.538150</td>\n",
       "      <td>2.314062e+05</td>\n",
       "      <td>0.488593</td>\n",
       "      <td>0.084863</td>\n",
       "      <td>0.161937</td>\n",
       "      <td>5.200519</td>\n",
       "      <td>0.206690</td>\n",
       "      <td>-11.370289</td>\n",
       "      <td>0.708556</td>\n",
       "      <td>31.556610</td>\n",
       "      <td>0.094058</td>\n",
       "      <td>116.948017</td>\n",
       "      <td>0.532095</td>\n",
       "      <td>1977.223231</td>\n",
       "    </tr>\n",
       "    <tr>\n",
       "      <th>std</th>\n",
       "      <td>0.376627</td>\n",
       "      <td>0.175346</td>\n",
       "      <td>1.213219e+05</td>\n",
       "      <td>0.267390</td>\n",
       "      <td>0.278679</td>\n",
       "      <td>0.309329</td>\n",
       "      <td>3.515257</td>\n",
       "      <td>0.176796</td>\n",
       "      <td>5.666765</td>\n",
       "      <td>0.454429</td>\n",
       "      <td>21.582614</td>\n",
       "      <td>0.149937</td>\n",
       "      <td>30.726937</td>\n",
       "      <td>0.262408</td>\n",
       "      <td>25.593168</td>\n",
       "    </tr>\n",
       "    <tr>\n",
       "      <th>min</th>\n",
       "      <td>0.000000</td>\n",
       "      <td>0.000000</td>\n",
       "      <td>5.108000e+03</td>\n",
       "      <td>0.000000</td>\n",
       "      <td>0.000000</td>\n",
       "      <td>0.000000</td>\n",
       "      <td>0.000000</td>\n",
       "      <td>0.000000</td>\n",
       "      <td>-60.000000</td>\n",
       "      <td>0.000000</td>\n",
       "      <td>0.000000</td>\n",
       "      <td>0.000000</td>\n",
       "      <td>0.000000</td>\n",
       "      <td>0.000000</td>\n",
       "      <td>1921.000000</td>\n",
       "    </tr>\n",
       "    <tr>\n",
       "      <th>25%</th>\n",
       "      <td>0.094500</td>\n",
       "      <td>0.417000</td>\n",
       "      <td>1.710400e+05</td>\n",
       "      <td>0.263000</td>\n",
       "      <td>0.000000</td>\n",
       "      <td>0.000000</td>\n",
       "      <td>2.000000</td>\n",
       "      <td>0.098400</td>\n",
       "      <td>-14.470000</td>\n",
       "      <td>0.000000</td>\n",
       "      <td>12.000000</td>\n",
       "      <td>0.034900</td>\n",
       "      <td>93.516000</td>\n",
       "      <td>0.322000</td>\n",
       "      <td>1957.000000</td>\n",
       "    </tr>\n",
       "    <tr>\n",
       "      <th>50%</th>\n",
       "      <td>0.492000</td>\n",
       "      <td>0.548000</td>\n",
       "      <td>2.086000e+05</td>\n",
       "      <td>0.481000</td>\n",
       "      <td>0.000000</td>\n",
       "      <td>0.000204</td>\n",
       "      <td>5.000000</td>\n",
       "      <td>0.135000</td>\n",
       "      <td>-10.474000</td>\n",
       "      <td>1.000000</td>\n",
       "      <td>33.000000</td>\n",
       "      <td>0.045000</td>\n",
       "      <td>114.778000</td>\n",
       "      <td>0.544000</td>\n",
       "      <td>1978.000000</td>\n",
       "    </tr>\n",
       "    <tr>\n",
       "      <th>75%</th>\n",
       "      <td>0.888000</td>\n",
       "      <td>0.667000</td>\n",
       "      <td>2.629600e+05</td>\n",
       "      <td>0.710000</td>\n",
       "      <td>0.000000</td>\n",
       "      <td>0.086800</td>\n",
       "      <td>8.000000</td>\n",
       "      <td>0.263000</td>\n",
       "      <td>-7.118000</td>\n",
       "      <td>1.000000</td>\n",
       "      <td>48.000000</td>\n",
       "      <td>0.075400</td>\n",
       "      <td>135.712000</td>\n",
       "      <td>0.749000</td>\n",
       "      <td>1999.000000</td>\n",
       "    </tr>\n",
       "    <tr>\n",
       "      <th>max</th>\n",
       "      <td>0.996000</td>\n",
       "      <td>0.988000</td>\n",
       "      <td>5.403500e+06</td>\n",
       "      <td>1.000000</td>\n",
       "      <td>1.000000</td>\n",
       "      <td>1.000000</td>\n",
       "      <td>11.000000</td>\n",
       "      <td>1.000000</td>\n",
       "      <td>3.855000</td>\n",
       "      <td>1.000000</td>\n",
       "      <td>100.000000</td>\n",
       "      <td>0.969000</td>\n",
       "      <td>244.091000</td>\n",
       "      <td>1.000000</td>\n",
       "      <td>2020.000000</td>\n",
       "    </tr>\n",
       "  </tbody>\n",
       "</table>\n",
       "</div>"
      ],
      "text/plain": [
       "        acousticness   danceability  ...        valence           year\n",
       "count  169909.000000  169909.000000  ...  169909.000000  169909.000000\n",
       "mean        0.493214       0.538150  ...       0.532095    1977.223231\n",
       "std         0.376627       0.175346  ...       0.262408      25.593168\n",
       "min         0.000000       0.000000  ...       0.000000    1921.000000\n",
       "25%         0.094500       0.417000  ...       0.322000    1957.000000\n",
       "50%         0.492000       0.548000  ...       0.544000    1978.000000\n",
       "75%         0.888000       0.667000  ...       0.749000    1999.000000\n",
       "max         0.996000       0.988000  ...       1.000000    2020.000000\n",
       "\n",
       "[8 rows x 15 columns]"
      ]
     },
     "execution_count": 4,
     "metadata": {
      "tags": []
     },
     "output_type": "execute_result"
    }
   ],
   "source": [
    "songs.describe()"
   ]
  },
  {
   "cell_type": "code",
   "execution_count": null,
   "metadata": {
    "colab": {
     "base_uri": "https://localhost:8080/",
     "height": 357
    },
    "colab_type": "code",
    "id": "neAGNE2eyrKa",
    "outputId": "3c135bb4-5484-4bfd-fbfc-8ea476535d6f"
   },
   "outputs": [
    {
     "data": {
      "text/plain": [
       "acousticness        0\n",
       "artists             0\n",
       "danceability        0\n",
       "duration_ms         0\n",
       "energy              0\n",
       "explicit            0\n",
       "id                  0\n",
       "instrumentalness    0\n",
       "key                 0\n",
       "liveness            0\n",
       "loudness            0\n",
       "mode                0\n",
       "name                0\n",
       "popularity          0\n",
       "release_date        0\n",
       "speechiness         0\n",
       "tempo               0\n",
       "valence             0\n",
       "year                0\n",
       "dtype: int64"
      ]
     },
     "execution_count": 5,
     "metadata": {
      "tags": []
     },
     "output_type": "execute_result"
    }
   ],
   "source": [
    "# check for nans\n",
    "pd.isnull(songs).sum()\n",
    "# awesome, no nans"
   ]
  },
  {
   "cell_type": "markdown",
   "metadata": {
    "colab_type": "text",
    "id": "bOj4skUc92-W"
   },
   "source": [
    "# Model Stuff"
   ]
  },
  {
   "cell_type": "code",
   "execution_count": null,
   "metadata": {
    "colab": {},
    "colab_type": "code",
    "id": "HKjbdBWu1xI_"
   },
   "outputs": [],
   "source": [
    "# only include numeric cols for now\n",
    "cols_i_want = ['artists',\t'name',\t'id',\t'danceability',\t'instrumentalness',\t'loudness',\t'speechiness',\t'valence']\n",
    "songs_new = songs[cols_i_want].copy()"
   ]
  },
  {
   "cell_type": "code",
   "execution_count": null,
   "metadata": {
    "colab": {
     "base_uri": "https://localhost:8080/",
     "height": 204
    },
    "colab_type": "code",
    "id": "9EGPaGQ04OFO",
    "outputId": "f2a4c780-d908-4fc2-f5b7-bc1b889ca325"
   },
   "outputs": [
    {
     "data": {
      "text/html": [
       "<div>\n",
       "<style scoped>\n",
       "    .dataframe tbody tr th:only-of-type {\n",
       "        vertical-align: middle;\n",
       "    }\n",
       "\n",
       "    .dataframe tbody tr th {\n",
       "        vertical-align: top;\n",
       "    }\n",
       "\n",
       "    .dataframe thead th {\n",
       "        text-align: right;\n",
       "    }\n",
       "</style>\n",
       "<table border=\"1\" class=\"dataframe\">\n",
       "  <thead>\n",
       "    <tr style=\"text-align: right;\">\n",
       "      <th></th>\n",
       "      <th>artists</th>\n",
       "      <th>name</th>\n",
       "      <th>id</th>\n",
       "      <th>danceability</th>\n",
       "      <th>instrumentalness</th>\n",
       "      <th>loudness</th>\n",
       "      <th>speechiness</th>\n",
       "      <th>valence</th>\n",
       "    </tr>\n",
       "  </thead>\n",
       "  <tbody>\n",
       "    <tr>\n",
       "      <th>0</th>\n",
       "      <td>['Carl Woitschach']</td>\n",
       "      <td>Singende Bataillone 1. Teil</td>\n",
       "      <td>6KbQ3uYMLKb5jDxLF7wYDD</td>\n",
       "      <td>0.708</td>\n",
       "      <td>0.563</td>\n",
       "      <td>-12.428</td>\n",
       "      <td>0.0506</td>\n",
       "      <td>0.7790</td>\n",
       "    </tr>\n",
       "    <tr>\n",
       "      <th>1</th>\n",
       "      <td>['Robert Schumann', 'Vladimir Horowitz']</td>\n",
       "      <td>Fantasiestücke, Op. 111: Più tosto lento</td>\n",
       "      <td>6KuQTIu1KoTTkLXKrwlLPV</td>\n",
       "      <td>0.379</td>\n",
       "      <td>0.901</td>\n",
       "      <td>-28.454</td>\n",
       "      <td>0.0462</td>\n",
       "      <td>0.0767</td>\n",
       "    </tr>\n",
       "    <tr>\n",
       "      <th>2</th>\n",
       "      <td>['Seweryn Goszczyński']</td>\n",
       "      <td>Chapter 1.18 - Zamek kaniowski</td>\n",
       "      <td>6L63VW0PibdM1HDSBoqnoM</td>\n",
       "      <td>0.749</td>\n",
       "      <td>0.000</td>\n",
       "      <td>-19.924</td>\n",
       "      <td>0.9290</td>\n",
       "      <td>0.8800</td>\n",
       "    </tr>\n",
       "    <tr>\n",
       "      <th>3</th>\n",
       "      <td>['Francisco Canaro']</td>\n",
       "      <td>Bebamos Juntos - Instrumental (Remasterizado)</td>\n",
       "      <td>6M94FkXd15sOAOQYRnWPN8</td>\n",
       "      <td>0.781</td>\n",
       "      <td>0.887</td>\n",
       "      <td>-14.734</td>\n",
       "      <td>0.0926</td>\n",
       "      <td>0.7200</td>\n",
       "    </tr>\n",
       "    <tr>\n",
       "      <th>4</th>\n",
       "      <td>['Frédéric Chopin', 'Vladimir Horowitz']</td>\n",
       "      <td>Polonaise-Fantaisie in A-Flat Major, Op. 61</td>\n",
       "      <td>6N6tiFZ9vLTSOIxkj8qKrd</td>\n",
       "      <td>0.210</td>\n",
       "      <td>0.908</td>\n",
       "      <td>-16.829</td>\n",
       "      <td>0.0424</td>\n",
       "      <td>0.0693</td>\n",
       "    </tr>\n",
       "  </tbody>\n",
       "</table>\n",
       "</div>"
      ],
      "text/plain": [
       "                                    artists  ... valence\n",
       "0                       ['Carl Woitschach']  ...  0.7790\n",
       "1  ['Robert Schumann', 'Vladimir Horowitz']  ...  0.0767\n",
       "2                   ['Seweryn Goszczyński']  ...  0.8800\n",
       "3                      ['Francisco Canaro']  ...  0.7200\n",
       "4  ['Frédéric Chopin', 'Vladimir Horowitz']  ...  0.0693\n",
       "\n",
       "[5 rows x 8 columns]"
      ]
     },
     "execution_count": 7,
     "metadata": {
      "tags": []
     },
     "output_type": "execute_result"
    }
   ],
   "source": [
    "songs_new.head()"
   ]
  },
  {
   "cell_type": "code",
   "execution_count": null,
   "metadata": {
    "colab": {
     "base_uri": "https://localhost:8080/",
     "height": 323
    },
    "colab_type": "code",
    "id": "kfTnHLAny7j7",
    "outputId": "f944d243-bec8-4dc5-beda-ae2e82a429b9"
   },
   "outputs": [
    {
     "data": {
      "text/html": [
       "<div>\n",
       "<style scoped>\n",
       "    .dataframe tbody tr th:only-of-type {\n",
       "        vertical-align: middle;\n",
       "    }\n",
       "\n",
       "    .dataframe tbody tr th {\n",
       "        vertical-align: top;\n",
       "    }\n",
       "\n",
       "    .dataframe thead th {\n",
       "        text-align: right;\n",
       "    }\n",
       "</style>\n",
       "<table border=\"1\" class=\"dataframe\">\n",
       "  <thead>\n",
       "    <tr style=\"text-align: right;\">\n",
       "      <th></th>\n",
       "      <th>artists</th>\n",
       "      <th>name</th>\n",
       "      <th>id</th>\n",
       "      <th>danceability</th>\n",
       "      <th>instrumentalness</th>\n",
       "      <th>loudness</th>\n",
       "      <th>speechiness</th>\n",
       "      <th>valence</th>\n",
       "    </tr>\n",
       "  </thead>\n",
       "  <tbody>\n",
       "    <tr>\n",
       "      <th>31517</th>\n",
       "      <td>['Radiator Hospital']</td>\n",
       "      <td>Our Song</td>\n",
       "      <td>6fLvsD8uWsCRow8PfOpMav</td>\n",
       "      <td>0.209</td>\n",
       "      <td>0.025300</td>\n",
       "      <td>-3.245</td>\n",
       "      <td>0.0512</td>\n",
       "      <td>0.626</td>\n",
       "    </tr>\n",
       "    <tr>\n",
       "      <th>708</th>\n",
       "      <td>['Zohrabai Ambalawali']</td>\n",
       "      <td>Koyeliya Bole Jiya Mora Dole</td>\n",
       "      <td>50pwsTFVsJTYA7rPFGpAoP</td>\n",
       "      <td>0.397</td>\n",
       "      <td>0.000500</td>\n",
       "      <td>-3.068</td>\n",
       "      <td>0.1330</td>\n",
       "      <td>0.875</td>\n",
       "    </tr>\n",
       "    <tr>\n",
       "      <th>110555</th>\n",
       "      <td>['Elvis Presley']</td>\n",
       "      <td>I Forgot to Remember to Forget</td>\n",
       "      <td>0q0cKtWbDbAeVrtql6lkB2</td>\n",
       "      <td>0.679</td>\n",
       "      <td>0.000018</td>\n",
       "      <td>-12.643</td>\n",
       "      <td>0.0577</td>\n",
       "      <td>0.674</td>\n",
       "    </tr>\n",
       "    <tr>\n",
       "      <th>4104</th>\n",
       "      <td>['Roxy Music']</td>\n",
       "      <td>In The Midnight Hour</td>\n",
       "      <td>6XMg9IQsc2MY0G55dFlnoY</td>\n",
       "      <td>0.709</td>\n",
       "      <td>0.000015</td>\n",
       "      <td>-5.904</td>\n",
       "      <td>0.0272</td>\n",
       "      <td>0.829</td>\n",
       "    </tr>\n",
       "    <tr>\n",
       "      <th>148835</th>\n",
       "      <td>['The Clash']</td>\n",
       "      <td>Lover's Rock</td>\n",
       "      <td>5nKoCK2SIO2dE9m09sh58d</td>\n",
       "      <td>0.565</td>\n",
       "      <td>0.000000</td>\n",
       "      <td>-10.504</td>\n",
       "      <td>0.0416</td>\n",
       "      <td>0.896</td>\n",
       "    </tr>\n",
       "  </tbody>\n",
       "</table>\n",
       "</div>"
      ],
      "text/plain": [
       "                        artists  ... valence\n",
       "31517     ['Radiator Hospital']  ...   0.626\n",
       "708     ['Zohrabai Ambalawali']  ...   0.875\n",
       "110555        ['Elvis Presley']  ...   0.674\n",
       "4104             ['Roxy Music']  ...   0.829\n",
       "148835            ['The Clash']  ...   0.896\n",
       "\n",
       "[5 rows x 8 columns]"
      ]
     },
     "execution_count": 8,
     "metadata": {
      "tags": []
     },
     "output_type": "execute_result"
    }
   ],
   "source": [
    "from sklearn.model_selection import train_test_split\n",
    "\n",
    "# train/test split\n",
    "train, test = train_test_split(songs_new, test_size=0.2, random_state=42)\n",
    "train.shape, test.shape\n",
    "train.head()"
   ]
  },
  {
   "cell_type": "code",
   "execution_count": null,
   "metadata": {
    "colab": {},
    "colab_type": "code",
    "id": "N0LGRpEmF6R0"
   },
   "outputs": [],
   "source": [
    "from sklearn.neighbors import NearestNeighbors\n",
    "\n",
    "def predicto(track_id):\n",
    "\n",
    "    # Instantiate and fit knn to the correct columns\n",
    "    NN = NearestNeighbors(n_neighbors=10)\n",
    "    NN.fit(songs_new[songs_new.columns[3:]])\n",
    "\n",
    "    song_track_id = songs_new.index[songs_new['id'] == track_id]\n",
    "    song_audio_features = songs_new.iloc[song_track_id, 3:].to_numpy()\n",
    "    neighbors = NN.kneighbors(song_audio_features)\n",
    "    print(type(series))\n",
    "    print(series)\n",
    "    new_obs = neighbors[1][0][6:20]\n",
    "    return list(songs_new.loc[new_obs, 'id'])"
   ]
  },
  {
   "cell_type": "code",
   "execution_count": null,
   "metadata": {
    "colab": {
     "base_uri": "https://localhost:8080/",
     "height": 419
    },
    "colab_type": "code",
    "id": "sHMEBiRD9z9s",
    "outputId": "2eae9b7b-8f40-4104-eebe-64a2df8d7777"
   },
   "outputs": [
    {
     "data": {
      "text/html": [
       "<div>\n",
       "<style scoped>\n",
       "    .dataframe tbody tr th:only-of-type {\n",
       "        vertical-align: middle;\n",
       "    }\n",
       "\n",
       "    .dataframe tbody tr th {\n",
       "        vertical-align: top;\n",
       "    }\n",
       "\n",
       "    .dataframe thead th {\n",
       "        text-align: right;\n",
       "    }\n",
       "</style>\n",
       "<table border=\"1\" class=\"dataframe\">\n",
       "  <thead>\n",
       "    <tr style=\"text-align: right;\">\n",
       "      <th></th>\n",
       "      <th>danceability</th>\n",
       "      <th>instrumentalness</th>\n",
       "      <th>loudness</th>\n",
       "      <th>speechiness</th>\n",
       "      <th>valence</th>\n",
       "    </tr>\n",
       "  </thead>\n",
       "  <tbody>\n",
       "    <tr>\n",
       "      <th>0</th>\n",
       "      <td>0.708</td>\n",
       "      <td>0.563000</td>\n",
       "      <td>-12.428</td>\n",
       "      <td>0.0506</td>\n",
       "      <td>0.7790</td>\n",
       "    </tr>\n",
       "    <tr>\n",
       "      <th>1</th>\n",
       "      <td>0.379</td>\n",
       "      <td>0.901000</td>\n",
       "      <td>-28.454</td>\n",
       "      <td>0.0462</td>\n",
       "      <td>0.0767</td>\n",
       "    </tr>\n",
       "    <tr>\n",
       "      <th>2</th>\n",
       "      <td>0.749</td>\n",
       "      <td>0.000000</td>\n",
       "      <td>-19.924</td>\n",
       "      <td>0.9290</td>\n",
       "      <td>0.8800</td>\n",
       "    </tr>\n",
       "    <tr>\n",
       "      <th>3</th>\n",
       "      <td>0.781</td>\n",
       "      <td>0.887000</td>\n",
       "      <td>-14.734</td>\n",
       "      <td>0.0926</td>\n",
       "      <td>0.7200</td>\n",
       "    </tr>\n",
       "    <tr>\n",
       "      <th>4</th>\n",
       "      <td>0.210</td>\n",
       "      <td>0.908000</td>\n",
       "      <td>-16.829</td>\n",
       "      <td>0.0424</td>\n",
       "      <td>0.0693</td>\n",
       "    </tr>\n",
       "    <tr>\n",
       "      <th>...</th>\n",
       "      <td>...</td>\n",
       "      <td>...</td>\n",
       "      <td>...</td>\n",
       "      <td>...</td>\n",
       "      <td>...</td>\n",
       "    </tr>\n",
       "    <tr>\n",
       "      <th>169904</th>\n",
       "      <td>0.875</td>\n",
       "      <td>0.000032</td>\n",
       "      <td>-7.461</td>\n",
       "      <td>0.1430</td>\n",
       "      <td>0.3060</td>\n",
       "    </tr>\n",
       "    <tr>\n",
       "      <th>169905</th>\n",
       "      <td>0.719</td>\n",
       "      <td>0.031300</td>\n",
       "      <td>-10.907</td>\n",
       "      <td>0.0403</td>\n",
       "      <td>0.2700</td>\n",
       "    </tr>\n",
       "    <tr>\n",
       "      <th>169906</th>\n",
       "      <td>0.514</td>\n",
       "      <td>0.002330</td>\n",
       "      <td>-9.332</td>\n",
       "      <td>0.1050</td>\n",
       "      <td>0.1530</td>\n",
       "    </tr>\n",
       "    <tr>\n",
       "      <th>169907</th>\n",
       "      <td>0.646</td>\n",
       "      <td>0.000000</td>\n",
       "      <td>-2.557</td>\n",
       "      <td>0.0385</td>\n",
       "      <td>0.4720</td>\n",
       "    </tr>\n",
       "    <tr>\n",
       "      <th>169908</th>\n",
       "      <td>0.512</td>\n",
       "      <td>0.000000</td>\n",
       "      <td>-7.387</td>\n",
       "      <td>0.0271</td>\n",
       "      <td>0.3660</td>\n",
       "    </tr>\n",
       "  </tbody>\n",
       "</table>\n",
       "<p>169909 rows × 5 columns</p>\n",
       "</div>"
      ],
      "text/plain": [
       "        danceability  instrumentalness  loudness  speechiness  valence\n",
       "0              0.708          0.563000   -12.428       0.0506   0.7790\n",
       "1              0.379          0.901000   -28.454       0.0462   0.0767\n",
       "2              0.749          0.000000   -19.924       0.9290   0.8800\n",
       "3              0.781          0.887000   -14.734       0.0926   0.7200\n",
       "4              0.210          0.908000   -16.829       0.0424   0.0693\n",
       "...              ...               ...       ...          ...      ...\n",
       "169904         0.875          0.000032    -7.461       0.1430   0.3060\n",
       "169905         0.719          0.031300   -10.907       0.0403   0.2700\n",
       "169906         0.514          0.002330    -9.332       0.1050   0.1530\n",
       "169907         0.646          0.000000    -2.557       0.0385   0.4720\n",
       "169908         0.512          0.000000    -7.387       0.0271   0.3660\n",
       "\n",
       "[169909 rows x 5 columns]"
      ]
     },
     "execution_count": 87,
     "metadata": {
      "tags": []
     },
     "output_type": "execute_result"
    }
   ],
   "source": [
    "songs_new[songs_new.columns[3:]]"
   ]
  },
  {
   "cell_type": "code",
   "execution_count": null,
   "metadata": {
    "colab": {
     "base_uri": "https://localhost:8080/",
     "height": 119
    },
    "colab_type": "code",
    "id": "ab_W5tJNDg6d",
    "outputId": "88342ccb-2a55-4588-8d80-e098c7e028b1"
   },
   "outputs": [
    {
     "name": "stdout",
     "output_type": "stream",
     "text": [
      "<class 'numpy.ndarray'>\n",
      "[[ 0.0124 -9.957   0.0477  0.689 ]]\n"
     ]
    },
    {
     "data": {
      "text/plain": [
       "['6llUzeoGSQ53W3ThFbReE2',\n",
       " '22mLKFanGy1bEb0qWuvMV0',\n",
       " '0psB5QzGb4653K0uaPgEyh',\n",
       " '3R6GxZEzCWDNnwo8QWeOw6']"
      ]
     },
     "execution_count": 53,
     "metadata": {
      "tags": []
     },
     "output_type": "execute_result"
    }
   ],
   "source": [
    "predicto('0Q4FD8T7IMzwIOZhUbVcGA')"
   ]
  },
  {
   "cell_type": "code",
   "execution_count": null,
   "metadata": {
    "colab": {
     "base_uri": "https://localhost:8080/",
     "height": 180
    },
    "colab_type": "code",
    "id": "d7sAmT2_5hvZ",
    "outputId": "5b16a9e4-b91c-4bd6-e3ee-de7501e9e645"
   },
   "outputs": [
    {
     "ename": "NameError",
     "evalue": "ignored",
     "output_type": "error",
     "traceback": [
      "\u001b[0;31m---------------------------------------------------------------------------\u001b[0m",
      "\u001b[0;31mNameError\u001b[0m                                 Traceback (most recent call last)",
      "\u001b[0;32m<ipython-input-11-0913f6dc1045>\u001b[0m in \u001b[0;36m<module>\u001b[0;34m()\u001b[0m\n\u001b[0;32m----> 1\u001b[0;31m \u001b[0;32mfor\u001b[0m \u001b[0msong\u001b[0m \u001b[0;32min\u001b[0m \u001b[0mpredictions\u001b[0m\u001b[0;34m:\u001b[0m\u001b[0;34m\u001b[0m\u001b[0;34m\u001b[0m\u001b[0m\n\u001b[0m\u001b[1;32m      2\u001b[0m   \u001b[0;32mpass\u001b[0m\u001b[0;34m\u001b[0m\u001b[0;34m\u001b[0m\u001b[0m\n",
      "\u001b[0;31mNameError\u001b[0m: name 'predictions' is not defined"
     ]
    }
   ],
   "source": [
    "#for song in predictions:\n",
    "#  pass"
   ]
  },
  {
   "cell_type": "code",
   "execution_count": null,
   "metadata": {
    "colab": {
     "base_uri": "https://localhost:8080/",
     "height": 207
    },
    "colab_type": "code",
    "id": "ic_vrREEEnNi",
    "outputId": "0d958059-c801-470d-88fc-05fdcf3458be"
   },
   "outputs": [
    {
     "name": "stdout",
     "output_type": "stream",
     "text": [
      "Collecting spotipy\n",
      "  Downloading https://files.pythonhosted.org/packages/f1/62/210c7942dede1c0d39aa56520d59c4565e232f957ea4caea87da7e6f3e61/spotipy-2.13.0-py3-none-any.whl\n",
      "Requirement already satisfied, skipping upgrade: six>=1.10.0 in /usr/local/lib/python3.6/dist-packages (from spotipy) (1.15.0)\n",
      "Requirement already satisfied, skipping upgrade: requests>=2.20.0 in /usr/local/lib/python3.6/dist-packages (from spotipy) (2.23.0)\n",
      "Requirement already satisfied, skipping upgrade: certifi>=2017.4.17 in /usr/local/lib/python3.6/dist-packages (from requests>=2.20.0->spotipy) (2020.6.20)\n",
      "Requirement already satisfied, skipping upgrade: urllib3!=1.25.0,!=1.25.1,<1.26,>=1.21.1 in /usr/local/lib/python3.6/dist-packages (from requests>=2.20.0->spotipy) (1.24.3)\n",
      "Requirement already satisfied, skipping upgrade: chardet<4,>=3.0.2 in /usr/local/lib/python3.6/dist-packages (from requests>=2.20.0->spotipy) (3.0.4)\n",
      "Requirement already satisfied, skipping upgrade: idna<3,>=2.5 in /usr/local/lib/python3.6/dist-packages (from requests>=2.20.0->spotipy) (2.10)\n",
      "Installing collected packages: spotipy\n",
      "Successfully installed spotipy-2.13.0\n"
     ]
    }
   ],
   "source": [
    "!pip install spotipy --upgrade"
   ]
  },
  {
   "cell_type": "code",
   "execution_count": null,
   "metadata": {
    "colab": {},
    "colab_type": "code",
    "id": "bRhLlhla7Zbo"
   },
   "outputs": [],
   "source": [
    "SPOTIPY_CLIENT_ID= 'c744e6f9a5a341a8985622978468a919'\n",
    "SPOTIPY_CLIENT_SECRET= 'bb3be0035a4d498fa59820a1480ef850'"
   ]
  },
  {
   "cell_type": "code",
   "execution_count": null,
   "metadata": {
    "colab": {},
    "colab_type": "code",
    "id": "KX7sn_Qn-ZUN"
   },
   "outputs": [],
   "source": [
    "import spotipy\n",
    "from spotipy.oauth2 import SpotifyClientCredentials, SpotifyOAuth\n",
    "\n",
    "credentials = SpotifyClientCredentials(client_id=SPOTIPY_CLIENT_ID, client_secret=SPOTIPY_CLIENT_SECRET)"
   ]
  },
  {
   "cell_type": "code",
   "execution_count": null,
   "metadata": {
    "colab": {
     "base_uri": "https://localhost:8080/",
     "height": 54
    },
    "colab_type": "code",
    "id": "EDnKYblW-791",
    "outputId": "23e881e1-c4e3-495c-d4af-598dceca64ed"
   },
   "outputs": [
    {
     "name": "stdout",
     "output_type": "stream",
     "text": [
      "[{'danceability': 0.708, 'energy': 0.195, 'key': 10, 'loudness': -12.428, 'mode': 1, 'speechiness': 0.0506, 'acousticness': 0.995, 'instrumentalness': 0.563, 'liveness': 0.151, 'valence': 0.779, 'tempo': 118.469, 'type': 'audio_features', 'id': '6KbQ3uYMLKb5jDxLF7wYDD', 'uri': 'spotify:track:6KbQ3uYMLKb5jDxLF7wYDD', 'track_href': 'https://api.spotify.com/v1/tracks/6KbQ3uYMLKb5jDxLF7wYDD', 'analysis_url': 'https://api.spotify.com/v1/audio-analysis/6KbQ3uYMLKb5jDxLF7wYDD', 'duration_ms': 158648, 'time_signature': 4}]\n"
     ]
    }
   ],
   "source": [
    "auth_manager = SpotifyClientCredentials(client_id=SPOTIPY_CLIENT_ID, client_secret=SPOTIPY_CLIENT_SECRET)\n",
    "sp = spotipy.Spotify(auth_manager=auth_manager)\n",
    "\n",
    "track_features = sp.audio_features('6KbQ3uYMLKb5jDxLF7wYDD')\n",
    "print(track_features)\n"
   ]
  },
  {
   "cell_type": "code",
   "execution_count": null,
   "metadata": {
    "colab": {
     "base_uri": "https://localhost:8080/",
     "height": 32
    },
    "colab_type": "code",
    "id": "Mx9qp9MDJtyn",
    "outputId": "845b0d90-94fe-4602-91f4-710f91037346"
   },
   "outputs": [
    {
     "data": {
      "text/html": [
       "<div>\n",
       "<style scoped>\n",
       "    .dataframe tbody tr th:only-of-type {\n",
       "        vertical-align: middle;\n",
       "    }\n",
       "\n",
       "    .dataframe tbody tr th {\n",
       "        vertical-align: top;\n",
       "    }\n",
       "\n",
       "    .dataframe thead th {\n",
       "        text-align: right;\n",
       "    }\n",
       "</style>\n",
       "<table border=\"1\" class=\"dataframe\">\n",
       "  <thead>\n",
       "    <tr style=\"text-align: right;\">\n",
       "      <th></th>\n",
       "    </tr>\n",
       "  </thead>\n",
       "  <tbody>\n",
       "  </tbody>\n",
       "</table>\n",
       "</div>"
      ],
      "text/plain": [
       "Empty DataFrame\n",
       "Columns: []\n",
       "Index: []"
      ]
     },
     "execution_count": 88,
     "metadata": {
      "tags": []
     },
     "output_type": "execute_result"
    }
   ],
   "source": [
    "wanted_features = ['danceability', 'instrumentalness',\t'loudness',\t'speechiness',\t'valence']\n",
    "\n",
    "input_track_audio_features_dict = track_features[0]\n",
    "df_new = pd.DataFrame()\n",
    "df_new.head()\n"
   ]
  },
  {
   "cell_type": "code",
   "execution_count": null,
   "metadata": {
    "colab": {},
    "colab_type": "code",
    "id": "fqjUR6h8b72V"
   },
   "outputs": [],
   "source": [
    "#danceability\tinstrumentalness\tloudness\tspeechiness\tvalence\n",
    "\n",
    "wanted_features = ['danceability', 'instrumentalness',\t'loudness',\t'speechiness',\t'valence']\n",
    "input_track_audio_features_dict = track_features[0]\n",
    "\n",
    "features_nums = []\n",
    "for feature in wanted_features:\n",
    "  features_nums.append(input_track_audio_features_dict[feature])\n",
    "\n",
    "\n",
    "model_input = [features_nums]\n",
    "\n",
    "df_new = pd.DataFrame(model_input, columns= wanted_features)\n",
    "df_new.head()\n",
    "series = df_new.iloc[0, 0:].to_numpy()\n",
    "\n"
   ]
  },
  {
   "cell_type": "code",
   "execution_count": null,
   "metadata": {
    "colab": {},
    "colab_type": "code",
    "id": "Ch977Ctw_uLL"
   },
   "outputs": [],
   "source": [
    "def predictor(audio_features_response):\n",
    "    '''\n",
    "    This function will take the dictionary that comes as \n",
    "    a response to the .audio_features() Spotipy API call as an input.\n",
    "    It basically takes all features, pulls out the ones I use for predictions,\n",
    "    and runs them through the Nearest Neighbors model.\n",
    "    \n",
    "    '''\n",
    "\n",
    "\n",
    "    # wanted_features = ['danceability', 'instrumentalness',\t'loudness',\t'speechiness',\t'valence']\n",
    "    \n",
    "    # features_nums = []\n",
    "    # for feature in wanted_features:\n",
    "    #   features_nums.append(input_track_audio_features_dict[feature])\n",
    "    # model_input = [features_nums]\n",
    "\n",
    "    # df_new = pd.DataFrame(model_input, columns= wanted_features)\n",
    "    # df_new.head()\n",
    "    # series = df_new.iloc[0, 0:].to_numpy()  \n",
    "\n",
    "    # Instantiate and fit knn to the correct columns\n",
    "    NN = NearestNeighbors(n_neighbors=10)\n",
    "    NN.fit(songs_new[songs_new.columns[3:]])\n",
    "\n",
    "    #obs = songs_new.index[songs_new['id'] == track_id]\n",
    "    #series = songs_new.iloc[obs, 4:].to_numpy()\n",
    "    \n",
    "    neighbors = NN.kneighbors(features_series)\n",
    "\n",
    "    new_obs = neighbors[1][0][6:20]\n",
    "    return list(songs_new.loc[new_obs, 'id'])"
   ]
  },
  {
   "cell_type": "code",
   "execution_count": null,
   "metadata": {
    "colab": {
     "base_uri": "https://localhost:8080/",
     "height": 282
    },
    "colab_type": "code",
    "id": "CfG312XGcJd5",
    "outputId": "d7fa5c0a-edb9-4c77-e618-c3301e73bc15"
   },
   "outputs": [
    {
     "ename": "KeyError",
     "evalue": "ignored",
     "output_type": "error",
     "traceback": [
      "\u001b[0;31m---------------------------------------------------------------------------\u001b[0m",
      "\u001b[0;31mKeyError\u001b[0m                                  Traceback (most recent call last)",
      "\u001b[0;32m<ipython-input-101-0aab6f7f0890>\u001b[0m in \u001b[0;36m<module>\u001b[0;34m()\u001b[0m\n\u001b[0;32m----> 1\u001b[0;31m \u001b[0mpredictor\u001b[0m\u001b[0;34m(\u001b[0m\u001b[0minput_track_audio_features_dict\u001b[0m\u001b[0;34m)\u001b[0m\u001b[0;34m\u001b[0m\u001b[0;34m\u001b[0m\u001b[0m\n\u001b[0m",
      "\u001b[0;32m<ipython-input-100-f83bd716d8a8>\u001b[0m in \u001b[0;36mpredictor\u001b[0;34m(audio_features_response)\u001b[0m\n\u001b[1;32m     10\u001b[0m \u001b[0;34m\u001b[0m\u001b[0m\n\u001b[1;32m     11\u001b[0m     \u001b[0mwanted_features\u001b[0m \u001b[0;34m=\u001b[0m \u001b[0;34m[\u001b[0m\u001b[0;34m'danceability'\u001b[0m\u001b[0;34m,\u001b[0m \u001b[0;34m'instrumentalness'\u001b[0m\u001b[0;34m,\u001b[0m      \u001b[0;34m'loudness'\u001b[0m\u001b[0;34m,\u001b[0m     \u001b[0;34m'speechiness'\u001b[0m\u001b[0;34m,\u001b[0m  \u001b[0;34m'valence'\u001b[0m\u001b[0;34m]\u001b[0m\u001b[0;34m\u001b[0m\u001b[0;34m\u001b[0m\u001b[0m\n\u001b[0;32m---> 12\u001b[0;31m     \u001b[0minput_track_audio_features_dict\u001b[0m \u001b[0;34m=\u001b[0m \u001b[0maudio_features_response\u001b[0m\u001b[0;34m[\u001b[0m\u001b[0;36m0\u001b[0m\u001b[0;34m]\u001b[0m\u001b[0;34m\u001b[0m\u001b[0;34m\u001b[0m\u001b[0m\n\u001b[0m\u001b[1;32m     13\u001b[0m \u001b[0;34m\u001b[0m\u001b[0m\n\u001b[1;32m     14\u001b[0m     \u001b[0mfeatures_nums\u001b[0m \u001b[0;34m=\u001b[0m \u001b[0;34m[\u001b[0m\u001b[0;34m]\u001b[0m\u001b[0;34m\u001b[0m\u001b[0;34m\u001b[0m\u001b[0m\n",
      "\u001b[0;31mKeyError\u001b[0m: 0"
     ]
    }
   ],
   "source": [
    "predictor(input_track_audio_features_dict)"
   ]
  },
  {
   "cell_type": "code",
   "execution_count": null,
   "metadata": {
    "colab": {},
    "colab_type": "code",
    "id": "gctMEN9ve8Q9"
   },
   "outputs": [],
   "source": [
    "import pickle\n",
    "NN = NearestNeighbors(n_neighbors=10)\n",
    "NN.fit(songs_new[songs_new.columns[3:]])\n",
    "# save the model to disk\n",
    "filename = 'testing_model.sav'\n",
    "pickle.dump(NN, open(filename, 'wb'))\n"
   ]
  },
  {
   "cell_type": "code",
   "execution_count": null,
   "metadata": {
    "colab": {},
    "colab_type": "code",
    "id": "QKtiHDnjeqoS"
   },
   "outputs": [],
   "source": [
    "\n",
    "\n",
    "loaded_model = pickle.load(open(filename, 'rb'))\n",
    "\n",
    "def clean_data_for_model(audio_feature_response):\n",
    "  \n",
    "  wanted_features = ['danceability', 'instrumentalness',\t'loudness',\t'speechiness',\t'valence']\n",
    "  input_track_audio_features_dict = track_features[0]\n",
    "\n",
    "  features_nums = []\n",
    "  for feature in wanted_features:\n",
    "    features_nums.append(input_track_audio_features_dict[feature])\n",
    "\n",
    "\n",
    "  model_input = [features_nums]\n",
    "\n",
    "  df_new = pd.DataFrame(model_input, columns= wanted_features)\n",
    "  df_new.head()\n",
    "  series = df_new.iloc[0, 0:].to_numpy()\n",
    "  return series\n",
    "\n",
    "def find_recommended_songs(audio_features):\n",
    "  neighbors = loaded_model.kneighbors(audio_features)\n",
    "  new_obs = neighbors[1][0][6:20]\n",
    "  return list(songs_new.loc[new_obs, 'id'])"
   ]
  },
  {
   "cell_type": "code",
   "execution_count": null,
   "metadata": {
    "colab": {},
    "colab_type": "code",
    "id": "p1RjYh9EibWI"
   },
   "outputs": [],
   "source": [
    "track_features = sp.audio_features('6KbQ3uYMLKb5jDxLF7wYDD')"
   ]
  },
  {
   "cell_type": "code",
   "execution_count": null,
   "metadata": {
    "colab": {},
    "colab_type": "code",
    "id": "q5mKrOCfgtFN"
   },
   "outputs": [],
   "source": [
    "model_input = clean_data_for_model(track_features)"
   ]
  },
  {
   "cell_type": "code",
   "execution_count": null,
   "metadata": {
    "colab": {
     "base_uri": "https://localhost:8080/",
     "height": 85
    },
    "colab_type": "code",
    "id": "wfKRHrT0fazH",
    "outputId": "c4ad4fc5-7acb-4eb0-fcde-821d791808ba"
   },
   "outputs": [
    {
     "data": {
      "text/plain": [
       "['1ydF2S0GCPnhWmPpJfiEgV',\n",
       " '04JI3xQtGD89or0pj9qpiy',\n",
       " '7mCX5q1uv37gUA3iueMXCP',\n",
       " '1o9KiRli5OckGK0NoQ4vVq']"
      ]
     },
     "execution_count": 112,
     "metadata": {
      "tags": []
     },
     "output_type": "execute_result"
    }
   ],
   "source": [
    "find_recommended_songs([model_input])"
   ]
  },
  {
   "cell_type": "code",
   "execution_count": null,
   "metadata": {
    "colab": {},
    "colab_type": "code",
    "id": "VJX2f4VLfvmb"
   },
   "outputs": [],
   "source": []
  }
 ],
 "metadata": {
  "colab": {
   "authorship_tag": "ABX9TyMo4Jv6BXWVoAelI6uhQ/cW",
   "include_colab_link": true,
   "name": "DylanSpotifyExploration.ipynb",
   "provenance": [],
   "toc_visible": true
  },
  "kernelspec": {
   "display_name": "Python 3",
   "language": "python",
   "name": "python3"
  },
  "language_info": {
   "codemirror_mode": {
    "name": "ipython",
    "version": 3
   },
   "file_extension": ".py",
   "mimetype": "text/x-python",
   "name": "python",
   "nbconvert_exporter": "python",
   "pygments_lexer": "ipython3",
   "version": "3.8.3"
  }
 },
 "nbformat": 4,
 "nbformat_minor": 1
}
